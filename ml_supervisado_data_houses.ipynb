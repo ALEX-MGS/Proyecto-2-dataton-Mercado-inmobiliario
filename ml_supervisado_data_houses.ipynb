{
 "cells": [
  {
   "cell_type": "code",
   "execution_count": 55,
   "metadata": {},
   "outputs": [],
   "source": [
    "import pandas as pd\n",
    "import numpy as np\n",
    "import matplotlib.pyplot as plt\n",
    "import seaborn as sns\n",
    "from sklearn.datasets import make_blobs, make_moons"
   ]
  },
  {
   "cell_type": "code",
   "execution_count": 64,
   "metadata": {},
   "outputs": [],
   "source": [
    "#importo datasets de test y train\n",
    "\n",
    "df_test=pd.read_parquet('test.parquet')\n",
    "df_train= pd.read_parquet('train.parquet')\n",
    "\n",
    "# elimino columnas que no me son utiles\n",
    "df_test=df_test.drop(['url','region_url','cats_allowed','dogs_allowed','image_url','smoking_allowed'],axis=1)\n",
    "df_train=df_train.drop(['url','region_url','cats_allowed','dogs_allowed','image_url','smoking_allowed'],axis=1)"
   ]
  },
  {
   "attachments": {},
   "cell_type": "markdown",
   "metadata": {},
   "source": [
    "cree funciones para eliminar outliers"
   ]
  },
  {
   "cell_type": "code",
   "execution_count": 65,
   "metadata": {},
   "outputs": [],
   "source": [
    "#funcion para tratamiento de outliers dando de argumento para limites superior e inferior manualmente\n",
    "def no_outliers(df,columna,upper,lower):\n",
    "    #deficicion de upper limit en categoria precio\n",
    "    upper_limit = upper\n",
    "\n",
    "    #deficicion de lower limit en categoria precio\n",
    "    lower_limit = lower\n",
    "\n",
    "    #creacion de nueva df[columna] el con outliers remplazados por uper y lowe limit respectivamente\n",
    "    df[columna] = np.where(df[columna] > upper_limit,upper_limit,np.where(df[columna] < lower_limit,lower_limit,df[columna]))\n",
    "    return \n",
    "\n",
    "#funcion para tratamiento de outliers dando argumentos para limites usando std\n",
    "def no_outliers_std(df,columna,std_no):\n",
    "    #deficicion de upper limit en categoria precio\n",
    "    upper_limit = df[columna].mean() + std_no*df[columna].std()\n",
    "\n",
    "    #deficicion de lower limit en categoria precio\n",
    "    lower_limit = df[columna].mean() - std_no*df[columna].std()\n",
    "\n",
    "    #creacion de nueva df[columna] el con outliers remplazados por uper y lowe limit respectivamente\n",
    "    df[columna] = np.where(df[columna] > upper_limit,upper_limit,np.where(df[columna] < lower_limit,lower_limit,df[columna]))\n",
    "    return "
   ]
  },
  {
   "attachments": {},
   "cell_type": "markdown",
   "metadata": {},
   "source": [
    "normalizamos la data de df_train"
   ]
  },
  {
   "cell_type": "code",
   "execution_count": 66,
   "metadata": {},
   "outputs": [
    {
     "data": {
      "text/plain": [
       "0    184925\n",
       "1    158290\n",
       "Name: catg_price, dtype: int64"
      ]
     },
     "execution_count": 66,
     "metadata": {},
     "output_type": "execute_result"
    }
   ],
   "source": [
    "\n",
    "#creacion de dummies en columna type\n",
    "hy=pd.get_dummies(df_train['type'])\n",
    "#elimino columna type para ser remplazada con dummies\n",
    "df_train.drop('type',inplace= True, axis=1)\n",
    "#incorporo columnas dummies en datasets\n",
    "df_train=pd.concat([df_train,hy],axis=1)\n",
    "\n",
    "#creacion de dataframe para uso en entrenamiento \n",
    "\n",
    "df_tr_supervisado=df_train[['id','price','sqfeet','beds','baths','wheelchair_access','electric_vehicle_charge','comes_furnished','apartment', 'condo', 'cottage/cabin', 'duplex',\n",
    "       'flat', 'house', 'in-law', 'loft', 'manufactured', 'townhouse']]\n",
    "#elimine las filas con precio inferior a 200 y superior a 5000 en mi df de entrenamiento \n",
    "df_tr_supervisado= df_tr_supervisado[df_tr_supervisado['price'] < 5000]\n",
    "df_tr_supervisado= df_tr_supervisado[df_tr_supervisado['price'] > 200]\n",
    "\n",
    "#lista de columnas a procesar con funcion de tratamiento de outliers, en esta no incluy el precio ya que voy a cambiar el margen de outlier\n",
    "\n",
    "lis_col_usadas=['sqfeet','wheelchair_access','electric_vehicle_charge','comes_furnished']\n",
    "\n",
    "#for loop para implementar funcin de outlier usando lista descrita antes\n",
    "for element in lis_col_usadas:\n",
    "    no_outliers_std(df_tr_supervisado, element,3)\n",
    "\n",
    "#implementacion de funcion en columna baths, en esta elegi los limites superior e inferior manualmente, basandome en la datos que visualice utilizando, value_count en la columna \n",
    "#deficicion de upper y lowerlimit en categoria bath\n",
    "no_outliers(df_tr_supervisado,'baths',6.5,0.5)\n",
    "\n",
    "#deficicion de upper y lowerlimit en categoria beds\n",
    "no_outliers(df_tr_supervisado,'beds',8,1)\n",
    "\n",
    "\n",
    "#implementacion de funcion en columna precio\n",
    "#no_outliers_std(df_tr_supervisado,'price',1)\n",
    "\n",
    "#creacion de columna de precio low usando el siguiente criterio (propiedades con precio menor a 999 low 1)(propiedades con precio mayor a 999 NO low 0)\n",
    "df_tr_supervisado['catg_price'] = np.where(df_tr_supervisado['price']> 999, 0, 1)\n",
    "#realize un print con el conteo de valores en la columna de categoria para comprobar que este balanceado \n",
    "df_tr_supervisado['catg_price'].value_counts()\n"
   ]
  },
  {
   "attachments": {},
   "cell_type": "markdown",
   "metadata": {},
   "source": [
    "normalizamos data de df_test"
   ]
  },
  {
   "cell_type": "code",
   "execution_count": 67,
   "metadata": {},
   "outputs": [],
   "source": [
    "#creacion de dummies en columna type\n",
    "hy=pd.get_dummies(df_test['type'])\n",
    "#elimino columna type para ser remplazada con dummies\n",
    "df_test.drop('type',inplace= True, axis=1)\n",
    "#incorporo columnas dummies en datasets\n",
    "df_test=pd.concat([df_test,hy],axis=1)\n",
    "\n",
    "#lista de columnas a procesar con funcion de tratamiento de outliers, en esta no incluy el precio ya que voy a cambiar el margen de outlier\n",
    "\n",
    "lis_col_usadas=['sqfeet','wheelchair_access','electric_vehicle_charge','comes_furnished']\n",
    "\n",
    "#for loop para implementar funcin de outlier usando lista descrita antes\n",
    "for element in lis_col_usadas:\n",
    "    no_outliers_std(df_test, element,3)\n",
    "\n",
    "#implementacion de funcion en columna baths, en esta elegi los limites superior e inferior manualmente, basandome en la datos que visualice utilizando, value_count en la columna \n",
    "#deficicion de upper y lowerlimit en categoria bath\n",
    "no_outliers(df_test,'baths',6.5,0.5)\n",
    "\n",
    "#deficicion de upper y lowerlimit en categoria beds\n",
    "no_outliers(df_test,'beds',8,1)"
   ]
  },
  {
   "cell_type": "code",
   "execution_count": 68,
   "metadata": {},
   "outputs": [],
   "source": [
    "#creacion de dataset para uso en entrenamiento y graficas de correlacion, en este exluyo los datos de id y de precio\n",
    "dftrs=df_tr_supervisado[['catg_price','sqfeet','beds','baths','wheelchair_access','electric_vehicle_charge','comes_furnished','apartment', 'condo', 'cottage/cabin', 'duplex',\n",
    "       'flat', 'house', 'in-law', 'loft', 'manufactured', 'townhouse']]"
   ]
  },
  {
   "attachments": {},
   "cell_type": "markdown",
   "metadata": {},
   "source": [
    "en esta seccion creo las variables e implemento lo necesario para entrenar el modelo "
   ]
  },
  {
   "cell_type": "code",
   "execution_count": 69,
   "metadata": {},
   "outputs": [
    {
     "data": {
      "text/html": [
       "<style>#sk-container-id-4 {color: black;background-color: white;}#sk-container-id-4 pre{padding: 0;}#sk-container-id-4 div.sk-toggleable {background-color: white;}#sk-container-id-4 label.sk-toggleable__label {cursor: pointer;display: block;width: 100%;margin-bottom: 0;padding: 0.3em;box-sizing: border-box;text-align: center;}#sk-container-id-4 label.sk-toggleable__label-arrow:before {content: \"▸\";float: left;margin-right: 0.25em;color: #696969;}#sk-container-id-4 label.sk-toggleable__label-arrow:hover:before {color: black;}#sk-container-id-4 div.sk-estimator:hover label.sk-toggleable__label-arrow:before {color: black;}#sk-container-id-4 div.sk-toggleable__content {max-height: 0;max-width: 0;overflow: hidden;text-align: left;background-color: #f0f8ff;}#sk-container-id-4 div.sk-toggleable__content pre {margin: 0.2em;color: black;border-radius: 0.25em;background-color: #f0f8ff;}#sk-container-id-4 input.sk-toggleable__control:checked~div.sk-toggleable__content {max-height: 200px;max-width: 100%;overflow: auto;}#sk-container-id-4 input.sk-toggleable__control:checked~label.sk-toggleable__label-arrow:before {content: \"▾\";}#sk-container-id-4 div.sk-estimator input.sk-toggleable__control:checked~label.sk-toggleable__label {background-color: #d4ebff;}#sk-container-id-4 div.sk-label input.sk-toggleable__control:checked~label.sk-toggleable__label {background-color: #d4ebff;}#sk-container-id-4 input.sk-hidden--visually {border: 0;clip: rect(1px 1px 1px 1px);clip: rect(1px, 1px, 1px, 1px);height: 1px;margin: -1px;overflow: hidden;padding: 0;position: absolute;width: 1px;}#sk-container-id-4 div.sk-estimator {font-family: monospace;background-color: #f0f8ff;border: 1px dotted black;border-radius: 0.25em;box-sizing: border-box;margin-bottom: 0.5em;}#sk-container-id-4 div.sk-estimator:hover {background-color: #d4ebff;}#sk-container-id-4 div.sk-parallel-item::after {content: \"\";width: 100%;border-bottom: 1px solid gray;flex-grow: 1;}#sk-container-id-4 div.sk-label:hover label.sk-toggleable__label {background-color: #d4ebff;}#sk-container-id-4 div.sk-serial::before {content: \"\";position: absolute;border-left: 1px solid gray;box-sizing: border-box;top: 0;bottom: 0;left: 50%;z-index: 0;}#sk-container-id-4 div.sk-serial {display: flex;flex-direction: column;align-items: center;background-color: white;padding-right: 0.2em;padding-left: 0.2em;position: relative;}#sk-container-id-4 div.sk-item {position: relative;z-index: 1;}#sk-container-id-4 div.sk-parallel {display: flex;align-items: stretch;justify-content: center;background-color: white;position: relative;}#sk-container-id-4 div.sk-item::before, #sk-container-id-4 div.sk-parallel-item::before {content: \"\";position: absolute;border-left: 1px solid gray;box-sizing: border-box;top: 0;bottom: 0;left: 50%;z-index: -1;}#sk-container-id-4 div.sk-parallel-item {display: flex;flex-direction: column;z-index: 1;position: relative;background-color: white;}#sk-container-id-4 div.sk-parallel-item:first-child::after {align-self: flex-end;width: 50%;}#sk-container-id-4 div.sk-parallel-item:last-child::after {align-self: flex-start;width: 50%;}#sk-container-id-4 div.sk-parallel-item:only-child::after {width: 0;}#sk-container-id-4 div.sk-dashed-wrapped {border: 1px dashed gray;margin: 0 0.4em 0.5em 0.4em;box-sizing: border-box;padding-bottom: 0.4em;background-color: white;}#sk-container-id-4 div.sk-label label {font-family: monospace;font-weight: bold;display: inline-block;line-height: 1.2em;}#sk-container-id-4 div.sk-label-container {text-align: center;}#sk-container-id-4 div.sk-container {/* jupyter's `normalize.less` sets `[hidden] { display: none; }` but bootstrap.min.css set `[hidden] { display: none !important; }` so we also need the `!important` here to be able to override the default hidden behavior on the sphinx rendered scikit-learn.org. See: https://github.com/scikit-learn/scikit-learn/issues/21755 */display: inline-block !important;position: relative;}#sk-container-id-4 div.sk-text-repr-fallback {display: none;}</style><div id=\"sk-container-id-4\" class=\"sk-top-container\"><div class=\"sk-text-repr-fallback\"><pre>DecisionTreeClassifier(max_depth=500, random_state=40)</pre><b>In a Jupyter environment, please rerun this cell to show the HTML representation or trust the notebook. <br />On GitHub, the HTML representation is unable to render, please try loading this page with nbviewer.org.</b></div><div class=\"sk-container\" hidden><div class=\"sk-item\"><div class=\"sk-estimator sk-toggleable\"><input class=\"sk-toggleable__control sk-hidden--visually\" id=\"sk-estimator-id-4\" type=\"checkbox\" checked><label for=\"sk-estimator-id-4\" class=\"sk-toggleable__label sk-toggleable__label-arrow\">DecisionTreeClassifier</label><div class=\"sk-toggleable__content\"><pre>DecisionTreeClassifier(max_depth=500, random_state=40)</pre></div></div></div></div></div>"
      ],
      "text/plain": [
       "DecisionTreeClassifier(max_depth=500, random_state=40)"
      ]
     },
     "execution_count": 69,
     "metadata": {},
     "output_type": "execute_result"
    }
   ],
   "source": [
    "# Denotamos X con las variables explicativas que vamos a usar\n",
    "X = dftrs[['sqfeet','beds','baths','wheelchair_access','electric_vehicle_charge','comes_furnished','apartment', 'condo', 'cottage/cabin', 'duplex',\n",
    "       'flat', 'house', 'in-law', 'loft', 'manufactured', 'townhouse']]\n",
    "# Denotamos y con la variable objetivo\n",
    "y = dftrs['catg_price'] \n",
    "\n",
    "\n",
    "#Separamos los datos de entrenamiento de los datos de prueba\n",
    "from sklearn.model_selection import train_test_split\n",
    "\n",
    "X_Train, X_Test, Y_Train, Y_Test = train_test_split(X, y, test_size = 0.25, random_state=0)\n",
    "\n",
    "#Estandarizamos (obviar esta parte por el momento, simplemente ejecutar)\n",
    "from sklearn.preprocessing import StandardScaler\n",
    "\n",
    "#sc_X = StandardScaler()\n",
    "#X_Train = sc_X.fit_transform(X_Train)\n",
    "#X_Test = sc_X.transform(X_Test)\n",
    "\n",
    "#importamos el modelo de arboles de decicion\n",
    "from sklearn.tree import DecisionTreeClassifier\n",
    "\n",
    "# Instanciamos un objeto de la clase DecisionTreeClassifier\n",
    "clf = DecisionTreeClassifier(max_depth = 500, random_state = 40) \n",
    "\n",
    "# Entrenamos el modelo\n",
    "clf.fit(X_Train, Y_Train)"
   ]
  },
  {
   "attachments": {},
   "cell_type": "markdown",
   "metadata": {},
   "source": [
    "exploreo caracteristicas de mi modelo "
   ]
  },
  {
   "cell_type": "code",
   "execution_count": 70,
   "metadata": {},
   "outputs": [
    {
     "name": "stdout",
     "output_type": "stream",
     "text": [
      "[0 1]\n",
      "2\n",
      "16\n",
      "[6.94103771e-01 6.69147297e-02 8.60618449e-02 3.22481022e-02\n",
      " 1.59602332e-02 2.90764794e-02 1.53558812e-02 1.19236264e-02\n",
      " 1.77741207e-03 5.88277295e-03 1.04359069e-03 1.54349926e-02\n",
      " 6.64909960e-04 1.53093029e-03 1.29734701e-02 9.04725287e-03]\n"
     ]
    }
   ],
   "source": [
    "# Exploramos algunas de las características del modelo entrenado. Para pensar, \n",
    "# ¿qúe representa cada uno de estos valores?\n",
    "\n",
    "print(clf.classes_)\n",
    "print(clf.n_classes_)\n",
    "print(clf.max_features_)\n",
    "print(clf.feature_importances_)\n",
    "\n"
   ]
  },
  {
   "cell_type": "code",
   "execution_count": 71,
   "metadata": {},
   "outputs": [
    {
     "name": "stdout",
     "output_type": "stream",
     "text": [
      "0.7484616101813435\n"
     ]
    }
   ],
   "source": [
    "#creo nueva variable de prediccion usando variable que contiene mis datos de test\n",
    "\n",
    "y_pred = clf.predict(X_Test)\n",
    "\n",
    "#importar funcion accuracy y print el acuracy_score\n",
    "from sklearn.metrics import accuracy_score\n",
    "#imprimo el acurracy score\n",
    "print(accuracy_score(Y_Test,y_pred))"
   ]
  },
  {
   "cell_type": "code",
   "execution_count": 72,
   "metadata": {},
   "outputs": [
    {
     "name": "stdout",
     "output_type": "stream",
     "text": [
      "0.7797568868463275\n"
     ]
    }
   ],
   "source": [
    "#compruebo el acurracy en mis con mis datos de train \n",
    "y_pred = clf.predict(X_Train)\n",
    "\n",
    "#importar funcion accuracy y print el acuracy_score\n",
    "from sklearn.metrics import accuracy_score\n",
    "\n",
    "print(accuracy_score(Y_Train,y_pred))"
   ]
  },
  {
   "attachments": {},
   "cell_type": "markdown",
   "metadata": {},
   "source": [
    "implementacion y uso de modelo ya entrenado en datos de test y exporto resultados en csv"
   ]
  },
  {
   "cell_type": "code",
   "execution_count": 73,
   "metadata": {},
   "outputs": [],
   "source": [
    "#creo dataframe con las mismas columnas que mi df usado en el entrenamiento \n",
    "\n",
    "test = df_test[['sqfeet','beds','baths','wheelchair_access','electric_vehicle_charge','comes_furnished','apartment', 'condo', 'cottage/cabin', 'duplex',\n",
    "       'flat', 'house', 'in-law', 'loft', 'manufactured', 'townhouse']]\n",
    "\n",
    "#Ejecuto la prediccion en mi DF test\n",
    "prediccion_data_test = clf.predict(test)\n",
    "\n",
    "#creacion de df vacio para agregar datos de prediccion\n",
    "dfpred=pd.DataFrame()\n",
    "\n",
    "#agregue datos de prediccion\n",
    "dfpred['pred']=prediccion_data_test\n",
    "\n",
    "#Exporar resultados de prediccion en formato csv \n",
    "dfpred.to_csv(r'ALEX-MGS.csv', index=False)"
   ]
  },
  {
   "cell_type": "code",
   "execution_count": 249,
   "metadata": {},
   "outputs": [
    {
     "data": {
      "text/plain": [
       "1    182051\n",
       "0    161164\n",
       "Name: catg_price, dtype: int64"
      ]
     },
     "execution_count": 249,
     "metadata": {},
     "output_type": "execute_result"
    }
   ],
   "source": [
    "#df_tr_supervisado['catg_price'] = np.where(df_tr_supervisado['price']>1999,2,np.where(df_tr_supervisado['price'] < 1000,0,1))\n",
    "#df_tr_supervisado['catg_price'] = np.where(df_tr_supervisado['price']> 1000,1,0)\n",
    "#df_tr_supervisado['catg_price'].value_counts()"
   ]
  },
  {
   "cell_type": "code",
   "execution_count": 199,
   "metadata": {},
   "outputs": [
    {
     "name": "stdout",
     "output_type": "stream",
     "text": [
      "unique_region\n",
      "unique_type\n"
     ]
    }
   ],
   "source": []
  }
 ],
 "metadata": {
  "kernelspec": {
   "display_name": "Python 3",
   "language": "python",
   "name": "python3"
  },
  "language_info": {
   "codemirror_mode": {
    "name": "ipython",
    "version": 3
   },
   "file_extension": ".py",
   "mimetype": "text/x-python",
   "name": "python",
   "nbconvert_exporter": "python",
   "pygments_lexer": "ipython3",
   "version": "3.9.13"
  },
  "orig_nbformat": 4,
  "vscode": {
   "interpreter": {
    "hash": "a7fc44bd2f79fa1a249e0f1256e748224cfea86fe4c1572f2a7a5cf8475183c8"
   }
  }
 },
 "nbformat": 4,
 "nbformat_minor": 2
}
